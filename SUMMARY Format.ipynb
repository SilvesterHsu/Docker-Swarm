{
 "cells": [
  {
   "cell_type": "markdown",
   "metadata": {},
   "source": [
    "# 1.0"
   ]
  },
  {
   "cell_type": "code",
   "execution_count": 1,
   "metadata": {
    "ExecuteTime": {
     "end_time": "2019-06-13T06:12:46.393853Z",
     "start_time": "2019-06-13T06:12:46.371142Z"
    }
   },
   "outputs": [],
   "source": [
    "#!/anaconda3/bin/python\n",
    "import re\n",
    "\n",
    "\n",
    "def summary(head):\n",
    "    title = re.findall('#+\\s(.+)', head)[0]\n",
    "    link = filename + '#' + title.lower().replace(' ', '-').replace('.', '')\n",
    "    depth = len(head.split(' ')[0])\n",
    "    markdown = '\t' * (depth-1) + '* [' + title + ']' + '(' + link + ')\\n'\n",
    "    return markdown\n",
    "\n",
    "\n",
    "filename = \"Docker-Swarm.md\"\n",
    "data = None\n",
    "with open(filename) as handle:\n",
    "    data = re.findall('(#+\\s.+)\\n', handle.read())\n",
    "markdown = list(map(summary, data))\n",
    "with open('SUMMARY.md', 'w') as handle:\n",
    "    for item in markdown:\n",
    "        handle.write(item)"
   ]
  },
  {
   "cell_type": "markdown",
   "metadata": {},
   "source": [
    "# 2.0"
   ]
  },
  {
   "cell_type": "code",
   "execution_count": 2,
   "metadata": {
    "ExecuteTime": {
     "end_time": "2019-06-13T06:12:46.411357Z",
     "start_time": "2019-06-13T06:12:46.400958Z"
    }
   },
   "outputs": [],
   "source": [
    "class toc:\n",
    "    def __init__(self, raw):\n",
    "        self.raw = raw\n",
    "        self.title = self.title_format()\n",
    "        self.link = self.link_format()\n",
    "        self.depth = self.depth_format()\n",
    "        self.markdown = self.markdown_format()\n",
    "        self.para = ''\n",
    "\n",
    "    def title_format(self):\n",
    "        return re.findall('#+\\s(.+)', self.raw)[0]\n",
    "\n",
    "    def link_format(self):\n",
    "        return self.title.lower().replace(' ', '-').replace('.', '')\n",
    "\n",
    "    def depth_format(self):\n",
    "        return len(self.raw.split(' ')[0])\n",
    "\n",
    "    def markdown_format(self):\n",
    "        return '\t' * (self.depth-1) + '* [' + self.title + ']' + '(' + self.link + ')\\n'\n",
    "    \n",
    "    def para_format(self):\n",
    "        global raw\n",
    "        return re.findall(self.raw+'[^#]+',raw)[0]"
   ]
  },
  {
   "cell_type": "code",
   "execution_count": 3,
   "metadata": {
    "ExecuteTime": {
     "end_time": "2019-06-13T06:12:46.430215Z",
     "start_time": "2019-06-13T06:12:46.417046Z"
    }
   },
   "outputs": [],
   "source": [
    "#!/anaconda3/bin/python\n",
    "import re\n",
    "filename = \"Docker-Swarm.md\"\n",
    "raw = None\n",
    "data = None\n",
    "with open(filename) as handle:\n",
    "    raw = handle.read()\n",
    "    data = re.findall('(^#\\s.+)\\n', raw)\n",
    "tocs = list(map(toc,data))"
   ]
  },
  {
   "cell_type": "markdown",
   "metadata": {},
   "source": [
    "# 3.0"
   ]
  },
  {
   "cell_type": "code",
   "execution_count": 150,
   "metadata": {
    "ExecuteTime": {
     "end_time": "2019-06-13T09:10:29.037515Z",
     "start_time": "2019-06-13T09:10:29.027052Z"
    }
   },
   "outputs": [],
   "source": [
    "class toc:\n",
    "    def __init__(self, raw):\n",
    "        self._raw = raw\n",
    "        self.title = self.title_format()\n",
    "        self.link = self.link_format()\n",
    "        self.depth = self.depth_format()\n",
    "        self.markdown = ''\n",
    "        if self.depth <=2:\n",
    "            self.para = ''\n",
    "        self.file = ''\n",
    "\n",
    "    def title_format(self):\n",
    "        return re.findall('#+\\s(.+)', self._raw)[0]\n",
    "\n",
    "    def link_format(self):\n",
    "        link = self.title.lower().replace(' ', '-')\n",
    "        link = re.sub('[^\\w-]','',link)\n",
    "        return link\n",
    "\n",
    "    def depth_format(self):\n",
    "        return len(self._raw.split(' ')[0])\n",
    "\n",
    "    def markdown_format(self):\n",
    "        mark_form = '\t' * (self.depth-1) + '* [' + self.title + ']'\n",
    "        mark_link = '(' + self.file +'#' + self.link + ')\\n'\n",
    "        return  mark_form + mark_link"
   ]
  },
  {
   "cell_type": "code",
   "execution_count": 151,
   "metadata": {
    "ExecuteTime": {
     "end_time": "2019-06-13T09:10:29.564917Z",
     "start_time": "2019-06-13T09:10:29.552309Z"
    }
   },
   "outputs": [],
   "source": [
    "#!/anaconda3/bin/python\n",
    "import re,os\n",
    "filename = [filename for filename in os.listdir(os.getcwd()) if filename.endswith('.md') and filename not in ['SUMMARY.md','README.md']][0]\n",
    "data = list()\n",
    "data_c = list()\n",
    "with open(filename) as handle:\n",
    "    raw = handle.readlines()\n",
    "    for i in raw:\n",
    "        if re.match('(^#{1,2}\\s.+)',i):\n",
    "            data.append(toc(i.strip('\\n')))\n",
    "        if re.match('(^#+\\s.+)',i):\n",
    "            data_c.append(toc(i.strip('\\n')))\n",
    "        data[-1].para += i"
   ]
  },
  {
   "cell_type": "code",
   "execution_count": 142,
   "metadata": {
    "ExecuteTime": {
     "end_time": "2019-06-13T09:07:25.331171Z",
     "start_time": "2019-06-13T09:07:25.323311Z"
    }
   },
   "outputs": [],
   "source": [
    "for i in data:\n",
    "    for j in data_c:\n",
    "        if i.link == j.link:\n",
    "            j.para = i.para"
   ]
  },
  {
   "cell_type": "code",
   "execution_count": 143,
   "metadata": {
    "ExecuteTime": {
     "end_time": "2019-06-13T09:07:27.105859Z",
     "start_time": "2019-06-13T09:07:27.092672Z"
    }
   },
   "outputs": [],
   "source": [
    "root = ''\n",
    "summary = ''\n",
    "file = ''\n",
    "for item in data_c:\n",
    "    if item.depth == 1:\n",
    "        path = item.link\n",
    "        if not os.path.exists(path):\n",
    "            os.mkdir(path)\n",
    "        root = path\n",
    "        with open(path + '/README.md','w') as handle:\n",
    "            handle.write(item.para)\n",
    "        file = path + '/README.md'\n",
    "        item.file = file\n",
    "    elif item.depth == 2:\n",
    "        path = root\n",
    "        with open(path + '/' + item.link + '.md','w') as handle:\n",
    "            handle.write(item.para)\n",
    "        file = path + '/' + item.link + '.md'\n",
    "        item.file = file\n",
    "    else:\n",
    "        item.file = file\n",
    "    item.markdown = item.markdown_format()\n",
    "    summary += item.markdown"
   ]
  },
  {
   "cell_type": "code",
   "execution_count": 144,
   "metadata": {
    "ExecuteTime": {
     "end_time": "2019-06-13T09:07:28.440998Z",
     "start_time": "2019-06-13T09:07:28.435814Z"
    }
   },
   "outputs": [],
   "source": [
    "with open('SUMMARY.md','w') as handle:\n",
    "    handle.write(summary)"
   ]
  },
  {
   "cell_type": "code",
   "execution_count": 145,
   "metadata": {
    "ExecuteTime": {
     "end_time": "2019-06-13T09:07:29.457943Z",
     "start_time": "2019-06-13T09:07:29.450724Z"
    }
   },
   "outputs": [
    {
     "name": "stdout",
     "output_type": "stream",
     "text": [
      "* [Docker Swarm](docker-swarm/README.md#docker-swarm)\n",
      "\t* [集群（`swarm`、`node`）](docker-swarm/集群swarmnode.md#集群swarmnode)\n",
      "\t\t* [1. 创建一个swarm集群](docker-swarm/集群swarmnode.md#1-创建一个swarm集群)\n",
      "\t\t* [2. 加入swarm集群](docker-swarm/集群swarmnode.md#2-加入swarm集群)\n",
      "\t\t* [3. 集群检查](docker-swarm/集群swarmnode.md#3-集群检查)\n",
      "\t\t* [4. 上、下线节点](docker-swarm/集群swarmnode.md#4-上下线节点)\n",
      "\t\t\t* [下线](docker-swarm/集群swarmnode.md#下线)\n",
      "\t\t\t* [上线](docker-swarm/集群swarmnode.md#上线)\n",
      "\t* [服务（`service`）](docker-swarm/服务service.md#服务service)\n",
      "\t\t* [1. 在swarm集群上部署服务](docker-swarm/服务service.md#1-在swarm集群上部署服务)\n",
      "\t\t\t* [建立服务](docker-swarm/服务service.md#建立服务)\n",
      "\t\t\t* [查看服务](docker-swarm/服务service.md#查看服务)\n",
      "\t\t* [2. 动态伸缩服务实例数](docker-swarm/服务service.md#2-动态伸缩服务实例数)\n",
      "\t\t* [3. 删除服务](docker-swarm/服务service.md#3-删除服务)\n",
      "\t\t* [4. 创建网络](docker-swarm/服务service.md#4-创建网络)\n",
      "* [Portainer可视化](portainer可视化/README.md#portainer可视化)\n",
      "\t* [1. 下载镜像](portainer可视化/1-下载镜像.md#1-下载镜像)\n",
      "\t* [2. 创建 volume](portainer可视化/2-创建-volume.md#2-创建-volume)\n",
      "\t* [3. 启动Portainer服务](portainer可视化/3-启动portainer服务.md#3-启动portainer服务)\n",
      "\n"
     ]
    }
   ],
   "source": [
    "print(summary)"
   ]
  },
  {
   "cell_type": "markdown",
   "metadata": {},
   "source": [
    "# 4.0"
   ]
  },
  {
   "cell_type": "code",
   "execution_count": 159,
   "metadata": {
    "ExecuteTime": {
     "end_time": "2019-06-13T09:32:43.020108Z",
     "start_time": "2019-06-13T09:32:42.984373Z"
    }
   },
   "outputs": [],
   "source": [
    "#!/anaconda3/bin/python\n",
    "import re\n",
    "import os\n",
    "\n",
    "\n",
    "class toc:\n",
    "    def __init__(self, raw):\n",
    "        self._raw = raw\n",
    "        self.title = self.title_format()\n",
    "        self.link = self.link_format()\n",
    "        self.depth = self.depth_format()\n",
    "        self.markdown = ''\n",
    "        if self.depth <= 2:\n",
    "            self.para = ''\n",
    "        self.file = ''\n",
    "\n",
    "    def title_format(self):\n",
    "        return re.findall('#+\\s(.+)', self._raw)[0]\n",
    "\n",
    "    def link_format(self):\n",
    "        link = self.title.lower().replace(' ', '-')\n",
    "        link = re.sub('[^\\w-]', '', link)\n",
    "        return link\n",
    "\n",
    "    def depth_format(self):\n",
    "        return len(self._raw.split(' ')[0])\n",
    "\n",
    "    def markdown_format(self):\n",
    "        mark_form = '\t' * (self.depth-1) + '* [' + self.title + ']'\n",
    "        mark_link = '(' + self.file + '#' + self.link + ')\\n'\n",
    "        return mark_form + mark_link\n",
    "\n",
    "\n",
    "try:\n",
    "    filename = [filename for filename in os.listdir(os.getcwd()) if filename.endswith(\n",
    "        '.md') and filename not in ['SUMMARY.md', 'README.md']][0]\n",
    "except:\n",
    "    print('Markdown file not fund.')\n",
    "    exit(0)\n",
    "\n",
    "data = list()\n",
    "data_c = list()\n",
    "with open(filename) as handle:\n",
    "    raw = handle.readlines()\n",
    "    for i in raw:\n",
    "        if re.match('(^#{1,2}\\s.+)', i):\n",
    "            data.append(toc(i.strip('\\n')))\n",
    "        if re.match('(^#+\\s.+)', i):\n",
    "            data_c.append(toc(i.strip('\\n')))\n",
    "        data[-1].para += i\n",
    "\n",
    "for i in data:\n",
    "    for j in data_c:\n",
    "        if i.link == j.link:\n",
    "            j.para = i.para\n",
    "\n",
    "root = ''\n",
    "summary = ''\n",
    "file = ''\n",
    "for item in data_c:\n",
    "    if item.depth == 1:\n",
    "        path = item.link\n",
    "        if not os.path.exists(path):\n",
    "            os.mkdir(path)\n",
    "        root = path\n",
    "        with open(path + '/README.md', 'w') as handle:\n",
    "            handle.write(item.para)\n",
    "        file = path + '/README.md'\n",
    "        item.file = file\n",
    "    elif item.depth == 2:\n",
    "        path = root\n",
    "        with open(path + '/' + item.link + '.md', 'w') as handle:\n",
    "            handle.write(item.para)\n",
    "        file = path + '/' + item.link + '.md'\n",
    "        item.file = file\n",
    "    else:\n",
    "        item.file = file\n",
    "    item.markdown = item.markdown_format()\n",
    "    summary += item.markdown\n",
    "\n",
    "with open('SUMMARY.md', 'w') as handle:\n",
    "    handle.write(summary)"
   ]
  },
  {
   "cell_type": "code",
   "execution_count": null,
   "metadata": {},
   "outputs": [],
   "source": []
  }
 ],
 "metadata": {
  "kernelspec": {
   "display_name": "Python 3",
   "language": "python",
   "name": "python3"
  },
  "language_info": {
   "codemirror_mode": {
    "name": "ipython",
    "version": 3
   },
   "file_extension": ".py",
   "mimetype": "text/x-python",
   "name": "python",
   "nbconvert_exporter": "python",
   "pygments_lexer": "ipython3",
   "version": "3.7.3"
  },
  "varInspector": {
   "cols": {
    "lenName": 16,
    "lenType": 16,
    "lenVar": 40
   },
   "kernels_config": {
    "python": {
     "delete_cmd_postfix": "",
     "delete_cmd_prefix": "del ",
     "library": "var_list.py",
     "varRefreshCmd": "print(var_dic_list())"
    },
    "r": {
     "delete_cmd_postfix": ") ",
     "delete_cmd_prefix": "rm(",
     "library": "var_list.r",
     "varRefreshCmd": "cat(var_dic_list()) "
    }
   },
   "position": {
    "height": "375px",
    "left": "1073px",
    "right": "20px",
    "top": "120px",
    "width": "347px"
   },
   "types_to_exclude": [
    "module",
    "function",
    "builtin_function_or_method",
    "instance",
    "_Feature"
   ],
   "window_display": false
  }
 },
 "nbformat": 4,
 "nbformat_minor": 2
}
